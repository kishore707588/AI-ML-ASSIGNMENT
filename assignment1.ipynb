{
  "nbformat": 4,
  "nbformat_minor": 0,
  "metadata": {
    "colab": {
      "provenance": [],
      "authorship_tag": "ABX9TyMbu3LktRpmPTT7s4dbeqUi",
      "include_colab_link": true
    },
    "kernelspec": {
      "name": "python3",
      "display_name": "Python 3"
    },
    "language_info": {
      "name": "python"
    }
  },
  "cells": [
    {
      "cell_type": "markdown",
      "metadata": {
        "id": "view-in-github",
        "colab_type": "text"
      },
      "source": [
        "<a href=\"https://colab.research.google.com/github/Akash12310/AI-ML-ASSIGNMENT/blob/main/ASSIGNMENT_1.ipynb\" target=\"_parent\"><img src=\"https://colab.research.google.com/assets/colab-badge.svg\" alt=\"Open In Colab\"/></a>"
      ]
    },
    {
      "cell_type": "code",
      "execution_count": 1,
      "metadata": {
        "id": "ljbN_Hcopb6U"
      },
      "outputs": [],
      "source": [
        "# Task1 create two lists & join those\n"
      ]
    },
    {
      "cell_type": "code",
      "source": [
        "# creating two lists\n",
        "\n",
        "test_list1 =[1,4,5,6,5]\n",
        "test_list2 =[3,5,7,2,5]\n",
        "#using + operator\n",
        "test_list3=test_list1+test_list2\n",
        "# printing concatenated list\n",
        "print (\"concatenated list using + : \" + str(test_list3))"
      ],
      "metadata": {
        "colab": {
          "base_uri": "https://localhost:8080/"
        },
        "id": "3hrFkrMrq2zx",
        "outputId": "eb53a87f-96c8-40c1-b6d9-0e6b0b659e05"
      },
      "execution_count": 2,
      "outputs": [
        {
          "output_type": "stream",
          "name": "stdout",
          "text": [
            "concatenated list using + : [1, 4, 5, 6, 5, 3, 5, 7, 2, 5]\n"
          ]
        }
      ]
    },
    {
      "cell_type": "code",
      "source": [
        "# task 2 : with \"if\" statement find  the even numbers"
      ],
      "metadata": {
        "id": "pqx2bjTfrm5Z"
      },
      "execution_count": 3,
      "outputs": []
    },
    {
      "cell_type": "code",
      "source": [
        "sum = int (input(\"enter a number : \"))\n",
        "if(sum%2==0):\n",
        " print(\"the number is even \")\n",
        "else :\n",
        "  print(\"the number is not even\")"
      ],
      "metadata": {
        "colab": {
          "base_uri": "https://localhost:8080/"
        },
        "id": "A3f98qBbr-zW",
        "outputId": "8b169bfe-5a3f-47cf-a662-9711013053ef"
      },
      "execution_count": 16,
      "outputs": [
        {
          "output_type": "stream",
          "name": "stdout",
          "text": [
            "enter a number : 6\n",
            "the number is even \n"
          ]
        }
      ]
    },
    {
      "cell_type": "code",
      "source": [
        "# Task 3 create a dictionary with 3 keys and 2 values for each key"
      ],
      "metadata": {
        "id": "d8HgsF4ivX7k"
      },
      "execution_count": 17,
      "outputs": []
    },
    {
      "cell_type": "code",
      "source": [
        "# create a dictionary with 3keys\n",
        "# each key has two values\n",
        "demo = {'first': [1,2],\n",
        "        'second':[3,4],\n",
        "        'third':[5,6]}\n",
        "# getting values of a key\n",
        "example=demo['first']\n",
        "print(example)\n"
      ],
      "metadata": {
        "colab": {
          "base_uri": "https://localhost:8080/"
        },
        "id": "utJ7-Bg6vlP-",
        "outputId": "97d15a40-498f-40a1-9871-278bdd8fc719"
      },
      "execution_count": 18,
      "outputs": [
        {
          "output_type": "stream",
          "name": "stdout",
          "text": [
            "[1, 2]\n"
          ]
        }
      ]
    },
    {
      "cell_type": "code",
      "source": [
        "#  Task 4 create a function with 'if' statement which is used to find the odd numbers"
      ],
      "metadata": {
        "id": "bkPH2m1Yvsro"
      },
      "execution_count": 19,
      "outputs": []
    },
    {
      "cell_type": "code",
      "source": [
        "num=int(input(\"enetr any number :\"))\n",
        "if(num%2)==0:\n",
        "  print(\"{0}is not an odd number\".format(num))\n",
        "else:\n",
        "  print(\"{0} is an odd number\".format(num))"
      ],
      "metadata": {
        "colab": {
          "base_uri": "https://localhost:8080/"
        },
        "id": "NfGb5kFmv_oG",
        "outputId": "f1191e3a-6c0d-49d8-d139-6c93a53cd4aa"
      },
      "execution_count": 20,
      "outputs": [
        {
          "output_type": "stream",
          "name": "stdout",
          "text": [
            "enetr any number :5\n",
            "5 is an odd number\n"
          ]
        }
      ]
    },
    {
      "cell_type": "code",
      "source": [
        "\n",
        "# Task 5 write  apython function with if statement to sum all the numbers in a list\n",
        "# sample list : (8,2,3,0,7)\n",
        "# expected output : 20"
      ],
      "metadata": {
        "id": "bjwgszPgwEpg"
      },
      "execution_count": 21,
      "outputs": []
    },
    {
      "cell_type": "code",
      "source": [
        "# Sample list of numbers\n",
        "numbers = [8,2,3,0,7]\n",
        "\n",
        "# Initialize a variable to store the sum\n",
        "sum_numbers = 0\n",
        "\n",
        "# Iterate through the list and add each number to the sum\n",
        "for num in numbers:\n",
        "    sum_numbers += num\n",
        "\n",
        "# Print the sum\n",
        "print(\"Sum of numbers in the list:\", sum_numbers)"
      ],
      "metadata": {
        "colab": {
          "base_uri": "https://localhost:8080/"
        },
        "id": "J4PjniiiwQoD",
        "outputId": "177dbf27-5b4e-4df1-fcc8-3dabb6c5b0b4"
      },
      "execution_count": 68,
      "outputs": [
        {
          "output_type": "stream",
          "name": "stdout",
          "text": [
            "Sum of numbers in the list: 20\n"
          ]
        }
      ]
    },
    {
      "cell_type": "code",
      "source": [],
      "metadata": {
        "id": "qe29NR3S2Qrm"
      },
      "execution_count": null,
      "outputs": []
    }
  ]
}