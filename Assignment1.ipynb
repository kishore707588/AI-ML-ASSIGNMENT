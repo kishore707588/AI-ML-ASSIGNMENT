{
  "nbformat": 4,
  "nbformat_minor": 0,
  "metadata": {
    "colab": {
      "provenance": [],
      "authorship_tag": "ABX9TyMFYWG0fB3611U8VIyRVG1N",
      "include_colab_link": true
    },
    "kernelspec": {
      "name": "python3",
      "display_name": "Python 3"
    },
    "language_info": {
      "name": "python"
    }
  },
  "cells": [
    {
      "cell_type": "markdown",
      "metadata": {
        "id": "view-in-github",
        "colab_type": "text"
      },
      "source": [
        "<a href=\"https://colab.research.google.com/github/kishore707588/AI-ML-ASSIGNMENT/blob/main/Assignment1.ipynb\" target=\"_parent\"><img src=\"https://colab.research.google.com/assets/colab-badge.svg\" alt=\"Open In Colab\"/></a>"
      ]
    },
    {
      "cell_type": "code",
      "execution_count": 1,
      "metadata": {
        "colab": {
          "base_uri": "https://localhost:8080/"
        },
        "id": "t_qZci4kmKBO",
        "outputId": "b97db8f4-6cc6-4ff5-fb5a-1d31ca5d217c"
      },
      "outputs": [
        {
          "output_type": "stream",
          "name": "stdout",
          "text": [
            "concatenated list using + : [1, 4, 5, 6, 5, 3, 5, 7, 2, 5]\n"
          ]
        }
      ],
      "source": [
        "\n",
        "# Task1 create two lists & join those two lists\n",
        "\n",
        "\n",
        "# creating two lists\n",
        "\n",
        "test_list1 =[1,4,5,6,5]\n",
        "test_list2 =[3,5,7,2,5]\n",
        "#using + operator\n",
        "test_list3=test_list1+test_list2\n",
        "# printing concatenated list\n",
        "print (\"concatenated list using + : \" + str(test_list3))"
      ]
    },
    {
      "cell_type": "code",
      "source": [
        "# task 2 : with \"if\" statement find  the even numbers\n",
        "\n",
        "\n",
        "sum = int (input(\"enter a number : \"))\n",
        "if(sum%2)==0:\n",
        " print(\"the number is even \")\n",
        "else :\n",
        "  print(\"the number is not even\")"
      ],
      "metadata": {
        "colab": {
          "base_uri": "https://localhost:8080/"
        },
        "id": "in0Gem1Hm6JI",
        "outputId": "27afae73-b1b7-43f5-c5ab-d704c451c0d6"
      },
      "execution_count": 2,
      "outputs": [
        {
          "output_type": "stream",
          "name": "stdout",
          "text": [
            "enter a number : 78\n",
            "the number is even \n"
          ]
        }
      ]
    },
    {
      "cell_type": "code",
      "source": [
        "# Task 3 create a dictionary with 3 keys and 2 values for each key\n",
        "\n",
        "\n",
        "# create a dictionary with 3keys\n",
        "# each key has two values\n",
        "demo = {'first': [1,2],\n",
        "        'second':[3,4],\n",
        "        'third':[5,6]}\n",
        "# getting values of a key\n",
        "example=demo['first']\n",
        "print(example)"
      ],
      "metadata": {
        "colab": {
          "base_uri": "https://localhost:8080/"
        },
        "id": "bAWuYGgOnTNQ",
        "outputId": "4d60ed39-524a-4034-8363-494d514bc2f9"
      },
      "execution_count": 7,
      "outputs": [
        {
          "output_type": "stream",
          "name": "stdout",
          "text": [
            "[1, 2]\n"
          ]
        }
      ]
    },
    {
      "cell_type": "code",
      "source": [
        "#  Task 4 create a function with 'if' statement which is used to find the odd numbers\n",
        "\n",
        "\n",
        "num=int(input(\"enetr any number :\"))\n",
        "if(num%2)==0:\n",
        "  print(\"{0}is not an odd number\".format(num))\n",
        "else:\n",
        "  print(\"{0} is an odd number\".format(num))"
      ],
      "metadata": {
        "colab": {
          "base_uri": "https://localhost:8080/"
        },
        "id": "ullEmHo7nZ0c",
        "outputId": "e85b63b8-c84e-47bb-c152-00149013247e"
      },
      "execution_count": 8,
      "outputs": [
        {
          "output_type": "stream",
          "name": "stdout",
          "text": [
            "enetr any number :45\n",
            "45 is an odd number\n"
          ]
        }
      ]
    },
    {
      "cell_type": "code",
      "source": [
        "# Task 5 write  apython function with if statement to sum all the numbers in a list\n",
        "# sample list : (8,2,3,0,7)\n",
        "# expected output : 20\n",
        "\n",
        "\n",
        "# python program is find the sum of the elements in the"
      ],
      "metadata": {
        "id": "BpTYRMu_n4ib"
      },
      "execution_count": 14,
      "outputs": []
    },
    {
      "cell_type": "code",
      "source": [
        "\n",
        "\n",
        "\n",
        "\n",
        "list1=[ 8,2,3,0,7]\n",
        "# using sum() function\n",
        "total = sum (list1)\n",
        "# printing the output\n",
        "print (\"the sum of elements in list :\",total)"
      ],
      "metadata": {
        "colab": {
          "base_uri": "https://localhost:8080/",
          "height": 367
        },
        "id": "seIoASa7oMCz",
        "outputId": "efffb9dd-10b8-4603-a608-af3ac92e1765"
      },
      "execution_count": 15,
      "outputs": [
        {
          "output_type": "error",
          "ename": "TypeError",
          "evalue": "ignored",
          "traceback": [
            "\u001b[0;31m---------------------------------------------------------------------------\u001b[0m",
            "\u001b[0;31mTypeError\u001b[0m                                 Traceback (most recent call last)",
            "\u001b[0;32m<ipython-input-15-94f69a1db4b2>\u001b[0m in \u001b[0;36m<cell line: 3>\u001b[0;34m()\u001b[0m\n\u001b[1;32m      1\u001b[0m \u001b[0mlist1\u001b[0m\u001b[0;34m=\u001b[0m\u001b[0;34m[\u001b[0m \u001b[0;36m8\u001b[0m\u001b[0;34m,\u001b[0m\u001b[0;36m2\u001b[0m\u001b[0;34m,\u001b[0m\u001b[0;36m3\u001b[0m\u001b[0;34m,\u001b[0m\u001b[0;36m0\u001b[0m\u001b[0;34m,\u001b[0m\u001b[0;36m7\u001b[0m\u001b[0;34m]\u001b[0m\u001b[0;34m\u001b[0m\u001b[0;34m\u001b[0m\u001b[0m\n\u001b[1;32m      2\u001b[0m \u001b[0;31m# using sum() function\u001b[0m\u001b[0;34m\u001b[0m\u001b[0;34m\u001b[0m\u001b[0m\n\u001b[0;32m----> 3\u001b[0;31m \u001b[0mtotal\u001b[0m \u001b[0;34m=\u001b[0m \u001b[0msum\u001b[0m \u001b[0;34m(\u001b[0m\u001b[0mlist1\u001b[0m\u001b[0;34m)\u001b[0m\u001b[0;34m\u001b[0m\u001b[0;34m\u001b[0m\u001b[0m\n\u001b[0m\u001b[1;32m      4\u001b[0m \u001b[0;31m# printing the output\u001b[0m\u001b[0;34m\u001b[0m\u001b[0;34m\u001b[0m\u001b[0m\n\u001b[1;32m      5\u001b[0m \u001b[0mprint\u001b[0m \u001b[0;34m(\u001b[0m\u001b[0;34m\"the sum of elements in list :\"\u001b[0m\u001b[0;34m,\u001b[0m\u001b[0mtotal\u001b[0m\u001b[0;34m)\u001b[0m\u001b[0;34m\u001b[0m\u001b[0;34m\u001b[0m\u001b[0m\n",
            "\u001b[0;31mTypeError\u001b[0m: 'int' object is not callable"
          ]
        }
      ]
    }
  ]
}